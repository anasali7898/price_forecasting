import pandas as pd
import numpy as np
from sklearn.model_selection import train_test_split


## //  reading dataset
data_train = pd.read_csv("./dataset/train.csv",sep="|")
data_items = pd.read_csv("./dataset/items.csv",sep="|")
data_new = pd.merge( data_train, data_items, how='left', on='pid' )

data_class = pd.read_csv("./dataset/class.csv",sep="|")
data_class.set_index('lineID',inplace=True,drop=True)
data_realclass = pd.read_csv("./dataset/realclass.csv",sep="|")
data_realclass.rename(columns={'revenue':'actual_revenue'},inplace=True)
data_realclass.set_index("lineID",inplace=True,drop=True)
test_data = data_class.join(data_realclass,on='lineID',how='inner')
test_data = pd.merge( test_data, data_items, how='left', on='pid' )


## // Train and test split
## // train:: training
## // test :: validation
X_train, X_val, y_train, y_val = train_test_split( data_new.drop(columns=['lineID','pid',"revenue"]), data_new[["revenue"]], test_size=0.2 )
print(X_train.shape, X_val.shape, y_train.shape, y_val.shape)

for col in X_train.columns:
    print( "Column: ", col , "  | Count of Missing Value: ", X_train[col].isna().sum() ,"  |  Percentage of Missing Values", (X_train[col].isna().sum()/X_train.shape[0])*100, "\n ------------" )



