import pandas as pd
import numpy as np
from sklearn.model_selection import train_test_split


## //  reading dataset
data_train = pd.read_csv("./dataset/train.csv",sep="|")
data_items = pd.read_csv("./dataset/items.csv",sep="|")
data_new = pd.merge( data_train, data_items, how='left', on='pid' )

data_class = pd.read_csv("./dataset/class.csv",sep="|")
data_class.set_index('lineID',inplace=True,drop=True)
data_realclass = pd.read_csv("./dataset/realclass.csv",sep="|")
data_realclass.rename(columns={'revenue':'actual_revenue'},inplace=True)
data_realclass.set_index("lineID",inplace=True,drop=True)
test_data = data_class.join(data_realclass,on='lineID',how='inner')
test_data = pd.merge( test_data, data_items, how='left', on='pid' )


## // Train and test split
## // train:: training
## // test :: validation
X_train, X_val, y_train, y_val = train_test_split( data_new.drop(columns=['lineID','pid',"revenue"]), data_new[["revenue"]], test_size=0.2 )
print(X_train.shape, X_val.shape, y_train.shape, y_val.shape)

for col in X_train.columns:
    print( "Column: ", col , "  | Count of Missing Value: ", X_train[col].isna().sum() ,"  |  Percentage of Missing Values", (X_train[col].isna().sum()/X_train.shape[0])*100, "\n ------------" )

#Missing Values
for col in X_train.columns:
    print( "Column: ", col , "  | Count of Missing Value: ", X_train[col].isna().sum() ,"  |  Percentage of Missing Values", (X_train[col].isna().sum()/X_train.shape[0])*100, "\n ------------" )

# Drop columns with more than 50% missing values
X_train.drop(columns=['campaignIndex'],inplace=True)
X_val.drop(columns=['campaignIndex'],inplace=True)

# Change data type of category column into integer and skip missing values
def convert_to_int(x):
    try:
        return int(x)
    except:
        return np.nan

X_train['category'] = X_train['category'].apply(convert_to_int)
X_val['category'] = X_val['category'].apply(convert_to_int)

# Print catgorical columns and count of unique values in each column
cat_cols = ['group','unit','pharmForm','salesIndex']
cat_num_cols =  ['manufacturer','adFlag','availability', "genericProduct", 'category']
for col in cat_cols+cat_num_cols:
    print( "Column: ", col , "  | Count of Unique Values: ", X_train[col].nunique() , "\n ------------" )


def convert_content_column_into_numbers(item):
    try:
        return float(item)
    except:
        # extract numbers seperated by alphabet (using regex)
        import re
        item = re.findall(r'\d+\.?\d*', item)
        # multiply the numbers to get the final number
        final_number = 1
        for i in item:
            final_number = final_number*float(i)
        return final_number


# item = 'L  150'
# convert_content_column_into_numbers(item)

X_train['content'] = X_train['content'].apply(convert_content_column_into_numbers)
X_val['content'] = X_val['content'].apply(convert_content_column_into_numbers)
# for item in X_train['content'].unique():
#     print(item, "   |   ", convert_content_column_into_numbers(item))

X_train[cat_cols+cat_num_cols].isna().sum()

# Impute missing values in cat_num_cols categorical columns
from sklearn.impute import SimpleImputer
imputer = SimpleImputer( strategy='constant', fill_value=-1 )
X_train[cat_num_cols] = imputer.fit_transform( X_train[cat_num_cols] )
X_val[cat_num_cols] = imputer.transform( X_val[cat_num_cols] )
# convert the data type of cat_num_cols columns into integer
X_train[cat_num_cols] = X_train[cat_num_cols].astype(int)
X_val[cat_num_cols] = X_val[cat_num_cols].astype(int)

# Impute missing values in cat_cols categorical columns with mode value
imputer = SimpleImputer( strategy='most_frequent' )
X_train[cat_cols] = imputer.fit_transform( X_train[cat_cols] )
X_val[cat_cols] = imputer.transform( X_val[cat_cols] )

#print("end of missing value")

